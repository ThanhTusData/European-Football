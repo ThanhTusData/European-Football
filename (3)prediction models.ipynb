{
 "cells": [
  {
   "cell_type": "markdown",
   "id": "fbf66802-b5c1-4647-bbff-206e2f873cb6",
   "metadata": {},
   "source": [
    "# Read the data"
   ]
  },
  {
   "cell_type": "code",
   "execution_count": 4,
   "id": "4123333d-a938-457b-82ab-dcd6782385af",
   "metadata": {},
   "outputs": [],
   "source": [
    "import pandas as pd\n",
    "match = pd.read_csv('Match Info.csv', encoding='latin1') \n",
    "player = pd.read_csv('Player Info.csv', encoding='latin1')\n",
    "team = pd.read_csv('Team Info.csv', encoding='latin1')\n",
    "\n"
   ]
  },
  {
   "cell_type": "code",
   "execution_count": 6,
   "id": "3048e8e7-d572-4ad0-b919-b134d217b1c5",
   "metadata": {},
   "outputs": [
    {
     "name": "stdout",
     "output_type": "stream",
     "text": [
      "<class 'pandas.core.frame.DataFrame'>\n",
      "RangeIndex: 25979 entries, 0 to 25978\n",
      "Data columns (total 10 columns):\n",
      " #   Column            Non-Null Count  Dtype \n",
      "---  ------            --------------  ----- \n",
      " 0   Country           25979 non-null  object\n",
      " 1   League            25979 non-null  object\n",
      " 2   Season            25979 non-null  object\n",
      " 3   Stage             25979 non-null  int64 \n",
      " 4   Date              25979 non-null  object\n",
      " 5   Match API ID      25979 non-null  int64 \n",
      " 6   Home Team API ID  25979 non-null  int64 \n",
      " 7   Away Team API ID  25979 non-null  int64 \n",
      " 8   Home Team Goal    25979 non-null  int64 \n",
      " 9   Away  Team Goal   25979 non-null  int64 \n",
      "dtypes: int64(6), object(4)\n",
      "memory usage: 2.0+ MB\n",
      "<class 'pandas.core.frame.DataFrame'>\n",
      "RangeIndex: 1458 entries, 0 to 1457\n",
      "Data columns (total 14 columns):\n",
      " #   Column                    Non-Null Count  Dtype \n",
      "---  ------                    --------------  ----- \n",
      " 0   Team API ID               1458 non-null   int64 \n",
      " 1   Team FIFA API ID          1458 non-null   int64 \n",
      " 2   Team Long Name            1458 non-null   object\n",
      " 3   Team Short Name           1458 non-null   object\n",
      " 4   Date                      1458 non-null   object\n",
      " 5   Build Up Play Speed       1458 non-null   int64 \n",
      " 6   Build Up Play Dribbling   1458 non-null   int64 \n",
      " 7   Build Up Play Passing     1458 non-null   int64 \n",
      " 8   Chance Creation Passing   1458 non-null   int64 \n",
      " 9   Chance Creation Crossing  1458 non-null   int64 \n",
      " 10  Chance Creation Shooting  1458 non-null   int64 \n",
      " 11  Defence Pressure          1458 non-null   int64 \n",
      " 12  Defence Aggression        1458 non-null   int64 \n",
      " 13  Defence Team Width        1458 non-null   int64 \n",
      "dtypes: int64(11), object(3)\n",
      "memory usage: 159.6+ KB\n",
      "<class 'pandas.core.frame.DataFrame'>\n",
      "RangeIndex: 11064 entries, 0 to 11063\n",
      "Data columns (total 25 columns):\n",
      " #   Column               Non-Null Count  Dtype  \n",
      "---  ------               --------------  -----  \n",
      " 0   Player API ID        11064 non-null  int64  \n",
      " 1   Player Name          11064 non-null  object \n",
      " 2   Player FIFA API ID   11064 non-null  int64  \n",
      " 3   Birthday             11064 non-null  object \n",
      " 4   Height               11064 non-null  float64\n",
      " 5   Weight               11064 non-null  int64  \n",
      " 6   Date                 11064 non-null  object \n",
      " 7   Overall Rating       11064 non-null  int64  \n",
      " 8   Potential            11064 non-null  int64  \n",
      " 9   Preferred Foot       11064 non-null  object \n",
      " 10  Attacking Work Rate  11064 non-null  object \n",
      " 11  Defensive Work Rate  11064 non-null  object \n",
      " 12  Crossing             11064 non-null  int64  \n",
      " 13  Finishing            11064 non-null  int64  \n",
      " 14  Heading Accuracy     11064 non-null  int64  \n",
      " 15  Short Passing        11064 non-null  int64  \n",
      " 16  Dribbling            11064 non-null  int64  \n",
      " 17  Ball Control         11064 non-null  int64  \n",
      " 18  Acceleration         11064 non-null  int64  \n",
      " 19  Sprint Speed         11064 non-null  int64  \n",
      " 20  Agility              11064 non-null  int64  \n",
      " 21  Shot Power           11064 non-null  int64  \n",
      " 22  Jumping              11064 non-null  int64  \n",
      " 23  Stamina              11064 non-null  int64  \n",
      " 24  Strength             11064 non-null  int64  \n",
      "dtypes: float64(1), int64(18), object(6)\n",
      "memory usage: 2.1+ MB\n"
     ]
    }
   ],
   "source": [
    "match.info()\n",
    "team.info()\n",
    "player.info()"
   ]
  },
  {
   "cell_type": "markdown",
   "id": "d83d0011-15d0-4529-93d2-24fe73da152b",
   "metadata": {},
   "source": [
    "# Use machine learning to make predictions"
   ]
  },
  {
   "cell_type": "code",
   "execution_count": 4,
   "id": "71345e4c-3b8e-4f1a-88db-4e0f4344d906",
   "metadata": {},
   "outputs": [
    {
     "name": "stdout",
     "output_type": "stream",
     "text": [
      "Requirement already satisfied: xgboost in c:\\users\\thanh\\anaconda3\\lib\\site-packages (2.1.1)\n",
      "Requirement already satisfied: numpy in c:\\users\\thanh\\anaconda3\\lib\\site-packages (from xgboost) (1.26.4)\n",
      "Requirement already satisfied: scipy in c:\\users\\thanh\\anaconda3\\lib\\site-packages (from xgboost) (1.13.1)\n"
     ]
    }
   ],
   "source": [
    "!pip install xgboost"
   ]
  },
  {
   "cell_type": "code",
   "execution_count": 11,
   "id": "83d27438-0fe9-4a46-9dd3-0619c3e48a17",
   "metadata": {
    "editable": true,
    "slideshow": {
     "slide_type": ""
    },
    "tags": []
   },
   "outputs": [
    {
     "name": "stdout",
     "output_type": "stream",
     "text": [
      "Country                       0\n",
      "League                        0\n",
      "Season                        0\n",
      "Stage                         0\n",
      "Date_x                        0\n",
      "Match API ID                  0\n",
      "Home Team API ID              0\n",
      "Away Team API ID              0\n",
      "Home Team Goal                0\n",
      "Away  Team Goal               0\n",
      "Team API ID                 178\n",
      "Team FIFA API ID            178\n",
      "Team Long Name              178\n",
      "Team Short Name             178\n",
      "Date_y                      178\n",
      "Build Up Play Speed         178\n",
      "Build Up Play Dribbling     178\n",
      "Build Up Play Passing       178\n",
      "Chance Creation Passing     178\n",
      "Chance Creation Crossing    178\n",
      "Chance Creation Shooting    178\n",
      "Defence Pressure            178\n",
      "Defence Aggression          178\n",
      "Defence Team Width          178\n",
      "dtype: int64\n"
     ]
    },
    {
     "data": {
      "image/png": "[encoded data removed]",
      "text/plain": [
       "<Figure size 640x480 with 1 Axes>"
      ]
     },
     "metadata": {},
     "output_type": "display_data"
    },
    {
     "name": "stdout",
     "output_type": "stream",
     "text": [
      "RMSE for Linear Regression: 1.2922174358103506\n",
      "RMSE for Random Forest: 1.239889143761858\n",
      "RMSE for Gradient Boosting: 1.2669058187780575\n",
      "RMSE for XGBoost: 1.238913410265662\n",
      "RMSE for Decision Tree: 1.2399909222322583\n"
     ]
    },
    {
     "data": {
      "image/png": "[encoded data removed]",
      "text/plain": [
       "<Figure size 1000x600 with 1 Axes>"
      ]
     },
     "metadata": {},
     "output_type": "display_data"
    },
    {
     "data": {
      "text/plain": [
       "['scaler.pkl']"
      ]
     },
     "execution_count": 11,
     "metadata": {},
     "output_type": "execute_result"
    }
   ],
   "source": [
    "import pandas as pd\n",
    "import numpy as np\n",
    "from sklearn.model_selection import train_test_split\n",
    "from sklearn.linear_model import LinearRegression\n",
    "from sklearn.tree import DecisionTreeRegressor\n",
    "from sklearn.ensemble import RandomForestRegressor, GradientBoostingRegressor\n",
    "from sklearn.metrics import mean_squared_error\n",
    "from sklearn.preprocessing import StandardScaler\n",
    "import matplotlib.pyplot as plt\n",
    "import joblib\n",
    "import seaborn as sns\n",
    "from xgboost import XGBRegressor\n",
    "\n",
    "\n",
    "# Read the data\n",
    "matches_df = pd.read_csv('Match Info.csv', encoding='latin1')  # dataset 1\n",
    "teams_df = pd.read_csv('Team Info.csv', encoding='latin1')  # dataset 2\n",
    "\n",
    "# Combine the data\n",
    "data = pd.merge(matches_df, teams_df, left_on='Home Team API ID', right_on='Team API ID', how='left')\n",
    "\n",
    "# Check for NaN values\n",
    "print(data.isnull().sum())\n",
    "\n",
    "# Handle NaN values (remove or fill with values)\n",
    "data = data.dropna()\n",
    "\n",
    "# Explore the data\n",
    "sns.scatterplot(data=data, x='Home Team Goal', y='Away  Team Goal')\n",
    "plt.title('Home Team Goals vs Away Team Goals')\n",
    "plt.show()\n",
    "\n",
    "# Prepare the data for the model\n",
    " # Add more features\n",
    "X = data[['Build Up Play Speed', 'Build Up Play Dribbling', 'Build Up Play Passing', \n",
    "           'Chance Creation Passing', 'Chance Creation Shooting']]  # Biến đầu vào\n",
    "y = data['Home Team Goal']  # Dự đoán số bàn thắng của đội nhà\n",
    "\n",
    " # Normalize the data\n",
    "scaler = StandardScaler()\n",
    "X_scaled = scaler.fit_transform(X)\n",
    "\n",
    " # Split the data\n",
    "X_train, X_test, y_train, y_test = train_test_split(X_scaled, y, test_size=0.2, random_state=42)\n",
    "\n",
    "# Train multiple models\n",
    "models = {\n",
    "    'Linear Regression': LinearRegression(),\n",
    "    'Random Forest': RandomForestRegressor(n_estimators=100, random_state=42),\n",
    "    'Gradient Boosting': GradientBoostingRegressor(n_estimators=100, random_state=42),\n",
    "    'XGBoost': XGBRegressor(n_estimators=100, random_state=42),\n",
    "    'Decision Tree': DecisionTreeRegressor()\n",
    "}\n",
    "\n",
    " # Store RMSE for each model\n",
    "results = {}\n",
    "\n",
    "for name, model in models.items():\n",
    "    model.fit(X_train, y_train)\n",
    "    y_pred = model.predict(X_test)\n",
    "    rmse = np.sqrt(mean_squared_error(y_test, y_pred))\n",
    "    results[name] = rmse\n",
    "    print(f'RMSE for {name}: {rmse}')\n",
    "\n",
    "# Visualize model performance\n",
    "plt.figure(figsize=(10, 6))\n",
    "sns.barplot(x=list(results.keys()), y=list(results.values()))\n",
    "plt.title('Model Comparison: RMSE')\n",
    "plt.xlabel('Models')\n",
    "plt.ylabel('RMSE')\n",
    "plt.xticks(rotation=45)\n",
    "plt.show()\n",
    "\n",
    "# Save the models and scaler\n",
    "for name, model in models.items():\n",
    "    joblib.dump(model, f'{name.lower().replace(\" \", \"_\")}_model.pkl')\n",
    "joblib.dump(scaler, 'scaler.pkl')\n"
   ]
  },
  {
   "cell_type": "markdown",
   "id": "e8bdb983-a99e-4bf4-b86a-c59b64369576",
   "metadata": {},
   "source": [
    "# Use new data for prediction testing"
   ]
  },
  {
   "cell_type": "code",
   "execution_count": 24,
   "id": "20e5be39-8b1a-464a-be86-0228df35208e",
   "metadata": {},
   "outputs": [
    {
     "name": "stdout",
     "output_type": "stream",
     "text": [
      "Linear Regression Predictions: [1.47735342 1.4599826  1.49472424]\n",
      "Decision Tree Predictions: [1.96703297 1.15611814 1.6875    ]\n",
      "Random Forest Predictions: [1.86475864 1.60685432 1.32712298]\n",
      "Gradient Boosting Predictions: [1.53102456 1.8197407  1.51672058]\n",
      "XGBoost Predictions: [2.133158  1.8751448 1.375082 ]\n"
     ]
    }
   ],
   "source": [
    "import joblib\n",
    "import pandas as pd\n",
    "import numpy as np\n",
    "\n",
    "# Load the saved models\n",
    "linear_model = joblib.load('linear_regression_model.pkl')\n",
    "decision_tree_model = joblib.load('decision_tree_model.pkl')\n",
    "random_forest_model = joblib.load('random_forest_model.pkl')\n",
    "gradient_boosting_model = joblib.load('gradient_boosting_model.pkl')\n",
    "xgboost_model = joblib.load('xgboost_model.pkl')\n",
    "\n",
    "# Load the saved scaler\n",
    "loaded_scaler = joblib.load('scaler.pkl')\n",
    "\n",
    "# Create new data for prediction\n",
    "# Assume the new data is created with appropriate features\n",
    "new_data = pd.DataFrame({\n",
    "    'Build Up Play Speed': [70, 80, 60],\n",
    "    'Build Up Play Dribbling': [65, 75, 55],\n",
    "    'Build Up Play Passing': [72, 82, 62],\n",
    "    'Chance Creation Passing': [68, 78, 58],\n",
    "    'Chance Creation Shooting': [74, 84, 64],\n",
    "})\n",
    "# Normalize the new data\n",
    "new_data_scaled = loaded_scaler.transform(new_data)\n",
    "\n",
    "# Predict the home team's goals using each model\n",
    "predictions = {\n",
    "    'Linear Regression': linear_model.predict(new_data_scaled),\n",
    "    'Decision Tree': decision_tree_model.predict(new_data_scaled),\n",
    "    'Random Forest': random_forest_model.predict(new_data_scaled),\n",
    "    'Gradient Boosting': gradient_boosting_model.predict(new_data_scaled),\n",
    "    'XGBoost': xgboost_model.predict(new_data_scaled)\n",
    "}\n",
    "\n",
    "# Display the prediction results\n",
    "for model_name, preds in predictions.items():\n",
    "    print(f'{model_name} Predictions: {preds}')\n"
   ]
  },
  {
   "cell_type": "code",
   "execution_count": null,
   "id": "7ec5d14b-0a90-4542-90f7-6a74e3b9cd68",
   "metadata": {},
   "outputs": [],
   "source": []
  }
 ],
 "metadata": {
  "kernelspec": {
   "display_name": "Python 3 (ipykernel)",
   "language": "python",
   "name": "python3"
  },
  "language_info": {
   "codemirror_mode": {
    "name": "ipython",
    "version": 3
   },
   "file_extension": ".py",
   "mimetype": "text/x-python",
   "name": "python",
   "nbconvert_exporter": "python",
   "pygments_lexer": "ipython3",
   "version": "3.12.4"
  }
 },
 "nbformat": 4,
 "nbformat_minor": 5
}
