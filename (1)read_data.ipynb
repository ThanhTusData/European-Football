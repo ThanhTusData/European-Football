{
 "cells": [
  {
   "cell_type": "code",
   "execution_count": 16,
   "id": "dedc3ece-19f6-4653-89e5-ee30594ad543",
   "metadata": {
    "editable": true,
    "slideshow": {
     "slide_type": ""
    },
    "tags": []
   },
   "outputs": [
    {
     "name": "stdout",
     "output_type": "stream",
     "text": [
      "                name\n",
      "0    sqlite_sequence\n",
      "1  Player_Attributes\n",
      "2             Player\n",
      "3              Match\n",
      "4             League\n",
      "5            Country\n",
      "6               Team\n",
      "7    Team_Attributes\n"
     ]
    }
   ],
   "source": [
    "import sqlite3\n",
    "import pandas as pd\n",
    "\n",
    "# Kết nối đến cơ sở dữ liệu SQLite\n",
    "database = 'C:/Users/thanh/OneDrive/Desktop/European Soccer Database/data/database.sqlite'\n",
    "conn = sqlite3.connect(database)\n",
    "\n",
    "# Truy vấn để lấy danh sách các bảng trong cơ sở dữ liệu\n",
    "query = \"SELECT name FROM sqlite_master WHERE type='table';\"\n",
    "tables = pd.read_sql(query, conn)\n",
    "\n",
    "print(tables)  # In ra danh sách các bảng\n"
   ]
  },
  {
   "cell_type": "code",
   "execution_count": 18,
   "id": "5e090f7d-ff3a-4a0b-a98c-b53793324391",
   "metadata": {},
   "outputs": [
    {
     "name": "stdout",
     "output_type": "stream",
     "text": [
      "Đã lưu sqlite_sequence thành sqlite_sequence.csv\n",
      "Đã lưu Player_Attributes thành Player_Attributes.csv\n",
      "Đã lưu Player thành Player.csv\n",
      "Đã lưu Match thành Match.csv\n",
      "Đã lưu League thành League.csv\n",
      "Đã lưu Country thành Country.csv\n",
      "Đã lưu Team thành Team.csv\n",
      "Đã lưu Team_Attributes thành Team_Attributes.csv\n"
     ]
    }
   ],
   "source": [
    "# Xuất từng bảng thành file CSV\n",
    "for table_name in tables['name']:\n",
    "    # Đọc dữ liệu từ bảng\n",
    "    query = f\"SELECT * FROM {table_name}\"\n",
    "    df = pd.read_sql(query, conn)\n",
    "    \n",
    "    # Lưu vào file CSV\n",
    "    csv_file = f\"{table_name}.csv\"  # Tên file CSV sẽ giống với tên bảng\n",
    "    df.to_csv(csv_file, index=False)  # Xuất file CSV, không bao gồm chỉ mục\n",
    "    print(f\"Đã lưu {table_name} thành {csv_file}\")\n"
   ]
  },
  {
   "cell_type": "code",
   "execution_count": null,
   "id": "f975e37f-ec7b-4a3c-83f3-7d25404841bb",
   "metadata": {},
   "outputs": [],
   "source": []
  }
 ],
 "metadata": {
  "kernelspec": {
   "display_name": "Python 3 (ipykernel)",
   "language": "python",
   "name": "python3"
  },
  "language_info": {
   "codemirror_mode": {
    "name": "ipython",
    "version": 3
   },
   "file_extension": ".py",
   "mimetype": "text/x-python",
   "name": "python",
   "nbconvert_exporter": "python",
   "pygments_lexer": "ipython3",
   "version": "3.12.4"
  }
 },
 "nbformat": 4,
 "nbformat_minor": 5
}
